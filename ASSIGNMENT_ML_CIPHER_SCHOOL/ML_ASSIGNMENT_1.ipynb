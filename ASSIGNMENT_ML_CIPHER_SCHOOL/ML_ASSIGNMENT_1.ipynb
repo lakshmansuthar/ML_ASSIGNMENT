{
 "cells": [
  {
   "cell_type": "code",
   "execution_count": 8,
   "metadata": {},
   "outputs": [
    {
     "name": "stdout",
     "output_type": "stream",
     "text": [
      "length of list : 7\n",
      "enter thye value of list : 4 4 5 6 8 4 5\n",
      "in list formet :  [4, 4, 5, 6, 8, 4, 5]\n",
      "after removing duplicates: [8, 4, 5, 6]\n"
     ]
    }
   ],
   "source": [
    "#Q-1\n",
    "\n",
    "a = int(input('length of list : '))\n",
    "intigerlist=list(int(num) for num in input('enter thye value of list : ').strip().split())[:a]\n",
    "print('in list formet : ',intigerlist)\n",
    "intigerlist=list(set(intigerlist))\n",
    "print(\"after removing duplicates: \"+str(intigerlist))"
   ]
  },
  {
   "cell_type": "code",
   "execution_count": 7,
   "metadata": {},
   "outputs": [
    {
     "name": "stdout",
     "output_type": "stream",
     "text": [
      "length of tuple :  5\n",
      "largest term :  5\n",
      "smallest term :  1\n",
      "sum :  15\n"
     ]
    }
   ],
   "source": [
    "# Q-2\n",
    "\n",
    "b = (1,2,3,4,5)\n",
    "print('length of tuple : ',len(b))\n",
    "# largest term\n",
    "print('largest term : ',max(b))\n",
    "#smallest term \n",
    "print('smallest term : ',min(b))\n",
    "#sum\n",
    "print('sum : ',sum(b))"
   ]
  },
  {
   "cell_type": "code",
   "execution_count": 10,
   "metadata": {},
   "outputs": [
    {
     "name": "stdout",
     "output_type": "stream",
     "text": [
      "num: 13\n",
      "x: 1\n",
      "15\n"
     ]
    }
   ],
   "source": [
    "# Q-3\n",
    "number = int(input('num: '))\n",
    "x=int(input('x: '))\n",
    "mag_num=1<<x\n",
    "original_num=number|mag_num\n",
    "print(original_num)"
   ]
  },
  {
   "cell_type": "code",
   "execution_count": 11,
   "metadata": {},
   "outputs": [
    {
     "name": "stdout",
     "output_type": "stream",
     "text": [
      "enter number: 6\n",
      "0\n"
     ]
    }
   ],
   "source": [
    "# Q-4\n",
    "A=int (input('enter number: '))\n",
    "print(A%2)"
   ]
  },
  {
   "cell_type": "code",
   "execution_count": 12,
   "metadata": {},
   "outputs": [
    {
     "name": "stdout",
     "output_type": "stream",
     "text": [
      "A=[2, 5, 7, 9, 10]\n",
      "B=[5, 4, 9, 8, 6]\n",
      "[2, 4, 5, 5, 6, 7, 8, 9, 9, 10]\n"
     ]
    }
   ],
   "source": [
    "# Q-5\n",
    "list_A=[2,5,7,9,10]\n",
    "print(\"A=\"+str(list_A))\n",
    "list_B=[5,4,9,8,6]\n",
    "print(\"B=\"+str(list_B))\n",
    "print(sorted(list_A+list_B))"
   ]
  },
  {
   "cell_type": "code",
   "execution_count": 13,
   "metadata": {},
   "outputs": [
    {
     "name": "stdout",
     "output_type": "stream",
     "text": [
      "input={'Berlin': 70, 'Oslo': 0, 'Moscow': 50, 'Nairobi': 100}\n",
      "output={'Oslo': 0, 'Moscow': 50, 'Belin': 70, 'Nairobi': 100}\n"
     ]
    }
   ],
   "source": [
    "# Q6\n",
    "\n",
    "students={'Berlin':70,'Oslo':0,'Moscow':50,'Nairobi':100}\n",
    "print(\"input=\"+str(students))\n",
    "tuple1=(('Belin',70),('Oslo',0),('Moscow',50),('Nairobi',100))\n",
    "y=dict(sorted(tuple1,key=lambda x:x[1]))\n",
    "print(\"output=\"+str(y))"
   ]
  }
 ],
 "metadata": {
  "kernelspec": {
   "display_name": "Python 3",
   "language": "python",
   "name": "python3"
  },
  "language_info": {
   "codemirror_mode": {
    "name": "ipython",
    "version": 3
   },
   "file_extension": ".py",
   "mimetype": "text/x-python",
   "name": "python",
   "nbconvert_exporter": "python",
   "pygments_lexer": "ipython3",
   "version": "3.7.4"
  }
 },
 "nbformat": 4,
 "nbformat_minor": 2
}
